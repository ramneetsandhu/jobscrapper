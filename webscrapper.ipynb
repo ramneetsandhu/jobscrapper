{
 "cells": [
  {
   "cell_type": "code",
   "execution_count": 28,
   "id": "b78410e5",
   "metadata": {},
   "outputs": [],
   "source": [
    "from bs4 import BeautifulSoup\n",
    "import requests\n",
    "import time"
   ]
  },
  {
   "cell_type": "code",
   "execution_count": 56,
   "id": "d173fba6",
   "metadata": {},
   "outputs": [],
   "source": [
    "request_url = 'https://www.timesjobs.com/candidate/job-search.html?searchType=' \\\n",
    "                             'personalizedSearch&from=submit&txtKeywords=python&txtLocation='"
   ]
  },
  {
   "cell_type": "code",
   "execution_count": 60,
   "id": "22283b12",
   "metadata": {},
   "outputs": [],
   "source": [
    "def find_jobs(request_url, unfamiliar_skill):\n",
    "    html_text = requests.get(request_url).text\n",
    "    soup = BeautifulSoup(html_text, 'lxml')\n",
    "    jobs = soup.find_all('li', class_ = 'clearfix job-bx wht-shd-bx' )\n",
    "    for index, job in enumerate(jobs):\n",
    "        published_date = job.find('span', class_='sim-posted').span.text\n",
    "        if 'few' in published_date:\n",
    "            company_name = job.find('h3', class_= 'joblist-comp-name').text.replace(' ','')\n",
    "            skills = job.find('span', class_='srp-skills').text.replace(' ','')\n",
    "            more_info = job.header.h2.a['href']\n",
    "            if unfamiliar_skill not in skills:\n",
    "                with open(f'posts/{index}.txt','w') as f:\n",
    "                    f.write(f\"Company Name: {company_name.strip()} \\n\")\n",
    "                    f.write(f\"Required Skills: {skills.strip()} \\n\")\n",
    "                    f.write(f'More Info: {more_info}')\n",
    "                print(f'File saved: {index}')\n",
    "    "
   ]
  },
  {
   "cell_type": "code",
   "execution_count": 61,
   "id": "f1d2ded2",
   "metadata": {},
   "outputs": [
    {
     "name": "stdout",
     "output_type": "stream",
     "text": [
      "Put some skill that you are not familiar with\n",
      ">java\n",
      "Filtering out java\n",
      "File saved: 3\n",
      "File saved: 5\n",
      "File saved: 6\n",
      "File saved: 13\n",
      "File saved: 16\n"
     ]
    }
   ],
   "source": [
    "print('Put some skill that you are not familiar with')\n",
    "unfamiliar_skill = input('>')\n",
    "print(f'Filtering out {unfamiliar_skill}')\n",
    "\n",
    "find_jobs(request_url, unfamiliar_skill)"
   ]
  },
  {
   "cell_type": "code",
   "execution_count": null,
   "id": "6edb7490",
   "metadata": {},
   "outputs": [],
   "source": []
  },
  {
   "cell_type": "code",
   "execution_count": null,
   "id": "f5d616ce",
   "metadata": {},
   "outputs": [],
   "source": []
  },
  {
   "cell_type": "code",
   "execution_count": null,
   "id": "1020f7cc",
   "metadata": {},
   "outputs": [],
   "source": []
  },
  {
   "cell_type": "code",
   "execution_count": null,
   "id": "89b46283",
   "metadata": {},
   "outputs": [],
   "source": []
  }
 ],
 "metadata": {
  "kernelspec": {
   "display_name": "Python 3 (ipykernel)",
   "language": "python",
   "name": "python3"
  },
  "language_info": {
   "codemirror_mode": {
    "name": "ipython",
    "version": 3
   },
   "file_extension": ".py",
   "mimetype": "text/x-python",
   "name": "python",
   "nbconvert_exporter": "python",
   "pygments_lexer": "ipython3",
   "version": "3.9.12"
  }
 },
 "nbformat": 4,
 "nbformat_minor": 5
}
